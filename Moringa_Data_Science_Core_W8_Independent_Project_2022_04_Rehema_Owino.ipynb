{
  "nbformat": 4,
  "nbformat_minor": 0,
  "metadata": {
    "colab": {
      "name": "Moringa_Data_Science_Core_W8_Independent_Project_2022_04_Rehema_Owino",
      "provenance": [],
      "collapsed_sections": [
        "kLG2VTrnTvYL",
        "XecOwPNorl2W",
        "J4wfHZwQrs-t",
        "a9BPYqunry97",
        "7KMRBJ7zr9HD",
        "zSGyg6kWsBUl",
        "iUNbvIvnT7ep",
        "OI3P3YnHUEBk",
        "ckfufNrcUHeH",
        "6XC_g-zKxe-r",
        "FlBMxEDBUc9B",
        "rF2ABPsHUtbZ",
        "vTbdjSrhVIiT",
        "lQ2G4ZPDVOXE",
        "xrmHVMVsVS--",
        "HPQviDmNtta8",
        "qjFHK1CKty7o",
        "HSsicSdvt4Zs"
      ],
      "toc_visible": true,
      "include_colab_link": true
    },
    "kernelspec": {
      "name": "python3",
      "display_name": "Python 3"
    }
  },
  "cells": [
    {
      "cell_type": "markdown",
      "metadata": {
        "id": "view-in-github",
        "colab_type": "text"
      },
      "source": [
        "<a href=\"https://colab.research.google.com/github/R-Owino/HYPOTHYROIDISM-PREDICTION-IN-PATIENTS/blob/main/Moringa_Data_Science_Core_W8_Independent_Project_2022_04_Rehema_Owino.ipynb\" target=\"_parent\"><img src=\"https://colab.research.google.com/assets/colab-badge.svg\" alt=\"Open In Colab\"/></a>"
      ]
    },
    {
      "cell_type": "markdown",
      "metadata": {
        "id": "xMxtPsqcTsSH"
      },
      "source": [
        "# Supervised Learning: Predicting hypothyroidism in patients based on symptoms."
      ]
    },
    {
      "cell_type": "markdown",
      "metadata": {
        "id": "kLG2VTrnTvYL"
      },
      "source": [
        "## 1. Defining the Question\n",
        "Nairobi Hospital conducted a clinical camp to test for hypothyroidism. The data collected focused on Thyroid patients. Use the healthcare datasets provided to build a model that determines whether or not the patient's symptoms indicate that the patient has hypothyroid."
      ]
    },
    {
      "cell_type": "markdown",
      "metadata": {
        "id": "J4wfHZwQrs-t"
      },
      "source": [
        "### b) Defining the Metric for Success\n",
        "Conduct decision trees and SVM techniques for prrediction and choose the most favourable one. "
      ]
    },
    {
      "cell_type": "markdown",
      "metadata": {
        "id": "a9BPYqunry97"
      },
      "source": [
        "### c) Understanding the context \n",
        "Hypothyroidism is a common condition where the thyroid doesn't create and release enough thyroid hormone into a person's bloodstream. This makes the person's metabolism slow down. Also called underactive thyroid, hypothyroidism can make a person feel tired, gain weight and be unable to tolerate cold temperatures. Predicting whether or not a patient has hypothyroidism can help in reversing the trajectory of the thyroid disease, improve the symptoms and avoid lifelong consequences.  "
      ]
    },
    {
      "cell_type": "markdown",
      "metadata": {
        "id": "7KMRBJ7zr9HD"
      },
      "source": [
        "### d) Recording the Experimental Design\n",
        "- Load and read the dataset. \n",
        "- Perform EDA.\n",
        "- Implement the solution using random forests.\n",
        "- Challenge the solution using SVM technique."
      ]
    },
    {
      "cell_type": "markdown",
      "metadata": {
        "id": "zSGyg6kWsBUl"
      },
      "source": [
        "### e) Data Relevance"
      ]
    },
    {
      "cell_type": "markdown",
      "metadata": {
        "id": "iUNbvIvnT7ep"
      },
      "source": [
        "## 2. Reading the Data"
      ]
    },
    {
      "cell_type": "code",
      "source": [
        "# importing the libraries\n",
        "import pandas as pd\n",
        "import numpy as np\n",
        "import seaborn as sns\n",
        "import matplotlib.pyplot as plt\n",
        "print('All libraries are imported')"
      ],
      "metadata": {
        "colab": {
          "base_uri": "https://localhost:8080/"
        },
        "id": "LoiAbPWHMF0V",
        "outputId": "099e1b31-c8ba-47ff-fdfe-5d52409b1870"
      },
      "execution_count": 146,
      "outputs": [
        {
          "output_type": "stream",
          "name": "stdout",
          "text": [
            "All libraries are imported\n"
          ]
        }
      ]
    },
    {
      "cell_type": "code",
      "metadata": {
        "id": "XJn2KjW-WMlG"
      },
      "source": [
        "# Loading the Dataset\n",
        "url = 'https://drive.google.com/file/d/16JjcwAmu2_bHNtb0ZdkOaJ_QW1lD88HK/view?usp=sharing'\n",
        "file_id = url.split('/')[-2]\n",
        "dwn_url = 'https://drive.google.com/uc?id='+ file_id\n",
        "df = pd.read_csv(dwn_url)\n",
        "df.columns = df.columns.str.lower()"
      ],
      "execution_count": 147,
      "outputs": []
    },
    {
      "cell_type": "markdown",
      "metadata": {
        "id": "OI3P3YnHUEBk"
      },
      "source": [
        "## 3. Checking the Data"
      ]
    },
    {
      "cell_type": "code",
      "metadata": {
        "id": "YjSVNwgptHxY",
        "colab": {
          "base_uri": "https://localhost:8080/"
        },
        "outputId": "f29a0ca0-fea6-4ba9-a95c-8b3afe56eab8"
      },
      "source": [
        "# Determining the no. of records in our dataset\n",
        "print('There are ' +str(df.shape[0])+ ' rows and ' +str(df.shape[1])+ ' columns in the dataset')"
      ],
      "execution_count": 148,
      "outputs": [
        {
          "output_type": "stream",
          "name": "stdout",
          "text": [
            "There are 3163 rows and 26 columns in the dataset\n"
          ]
        }
      ]
    },
    {
      "cell_type": "code",
      "metadata": {
        "id": "xHhTw5eKWr0n",
        "colab": {
          "base_uri": "https://localhost:8080/",
          "height": 299
        },
        "outputId": "ecd8fdc4-a3c3-4517-cf3e-df4c71660cba"
      },
      "source": [
        "# Previewing the top of our dataset\n",
        "df.head()"
      ],
      "execution_count": 149,
      "outputs": [
        {
          "output_type": "execute_result",
          "data": {
            "text/plain": [
              "        status age sex on_thyroxine query_on_thyroxine  \\\n",
              "0  hypothyroid  72   M            f                  f   \n",
              "1  hypothyroid  15   F            t                  f   \n",
              "2  hypothyroid  24   M            f                  f   \n",
              "3  hypothyroid  24   F            f                  f   \n",
              "4  hypothyroid  77   M            f                  f   \n",
              "\n",
              "  on_antithyroid_medication thyroid_surgery query_hypothyroid  \\\n",
              "0                         f               f                 f   \n",
              "1                         f               f                 f   \n",
              "2                         f               f                 f   \n",
              "3                         f               f                 f   \n",
              "4                         f               f                 f   \n",
              "\n",
              "  query_hyperthyroid pregnant  ... t3_measured    t3 tt4_measured tt4  \\\n",
              "0                  f        f  ...           y  0.60            y  15   \n",
              "1                  f        f  ...           y  1.70            y  19   \n",
              "2                  f        f  ...           y  0.20            y   4   \n",
              "3                  f        f  ...           y  0.40            y   6   \n",
              "4                  f        f  ...           y  1.20            y  57   \n",
              "\n",
              "  t4u_measured   t4u fti_measured fti tbg_measured tbg  \n",
              "0            y  1.48            y  10            n   ?  \n",
              "1            y  1.13            y  17            n   ?  \n",
              "2            y     1            y   0            n   ?  \n",
              "3            y  1.04            y   6            n   ?  \n",
              "4            y  1.28            y  44            n   ?  \n",
              "\n",
              "[5 rows x 26 columns]"
            ],
            "text/html": [
              "\n",
              "  <div id=\"df-a4e319f2-ab01-4f21-bbaa-183d920e907b\">\n",
              "    <div class=\"colab-df-container\">\n",
              "      <div>\n",
              "<style scoped>\n",
              "    .dataframe tbody tr th:only-of-type {\n",
              "        vertical-align: middle;\n",
              "    }\n",
              "\n",
              "    .dataframe tbody tr th {\n",
              "        vertical-align: top;\n",
              "    }\n",
              "\n",
              "    .dataframe thead th {\n",
              "        text-align: right;\n",
              "    }\n",
              "</style>\n",
              "<table border=\"1\" class=\"dataframe\">\n",
              "  <thead>\n",
              "    <tr style=\"text-align: right;\">\n",
              "      <th></th>\n",
              "      <th>status</th>\n",
              "      <th>age</th>\n",
              "      <th>sex</th>\n",
              "      <th>on_thyroxine</th>\n",
              "      <th>query_on_thyroxine</th>\n",
              "      <th>on_antithyroid_medication</th>\n",
              "      <th>thyroid_surgery</th>\n",
              "      <th>query_hypothyroid</th>\n",
              "      <th>query_hyperthyroid</th>\n",
              "      <th>pregnant</th>\n",
              "      <th>...</th>\n",
              "      <th>t3_measured</th>\n",
              "      <th>t3</th>\n",
              "      <th>tt4_measured</th>\n",
              "      <th>tt4</th>\n",
              "      <th>t4u_measured</th>\n",
              "      <th>t4u</th>\n",
              "      <th>fti_measured</th>\n",
              "      <th>fti</th>\n",
              "      <th>tbg_measured</th>\n",
              "      <th>tbg</th>\n",
              "    </tr>\n",
              "  </thead>\n",
              "  <tbody>\n",
              "    <tr>\n",
              "      <th>0</th>\n",
              "      <td>hypothyroid</td>\n",
              "      <td>72</td>\n",
              "      <td>M</td>\n",
              "      <td>f</td>\n",
              "      <td>f</td>\n",
              "      <td>f</td>\n",
              "      <td>f</td>\n",
              "      <td>f</td>\n",
              "      <td>f</td>\n",
              "      <td>f</td>\n",
              "      <td>...</td>\n",
              "      <td>y</td>\n",
              "      <td>0.60</td>\n",
              "      <td>y</td>\n",
              "      <td>15</td>\n",
              "      <td>y</td>\n",
              "      <td>1.48</td>\n",
              "      <td>y</td>\n",
              "      <td>10</td>\n",
              "      <td>n</td>\n",
              "      <td>?</td>\n",
              "    </tr>\n",
              "    <tr>\n",
              "      <th>1</th>\n",
              "      <td>hypothyroid</td>\n",
              "      <td>15</td>\n",
              "      <td>F</td>\n",
              "      <td>t</td>\n",
              "      <td>f</td>\n",
              "      <td>f</td>\n",
              "      <td>f</td>\n",
              "      <td>f</td>\n",
              "      <td>f</td>\n",
              "      <td>f</td>\n",
              "      <td>...</td>\n",
              "      <td>y</td>\n",
              "      <td>1.70</td>\n",
              "      <td>y</td>\n",
              "      <td>19</td>\n",
              "      <td>y</td>\n",
              "      <td>1.13</td>\n",
              "      <td>y</td>\n",
              "      <td>17</td>\n",
              "      <td>n</td>\n",
              "      <td>?</td>\n",
              "    </tr>\n",
              "    <tr>\n",
              "      <th>2</th>\n",
              "      <td>hypothyroid</td>\n",
              "      <td>24</td>\n",
              "      <td>M</td>\n",
              "      <td>f</td>\n",
              "      <td>f</td>\n",
              "      <td>f</td>\n",
              "      <td>f</td>\n",
              "      <td>f</td>\n",
              "      <td>f</td>\n",
              "      <td>f</td>\n",
              "      <td>...</td>\n",
              "      <td>y</td>\n",
              "      <td>0.20</td>\n",
              "      <td>y</td>\n",
              "      <td>4</td>\n",
              "      <td>y</td>\n",
              "      <td>1</td>\n",
              "      <td>y</td>\n",
              "      <td>0</td>\n",
              "      <td>n</td>\n",
              "      <td>?</td>\n",
              "    </tr>\n",
              "    <tr>\n",
              "      <th>3</th>\n",
              "      <td>hypothyroid</td>\n",
              "      <td>24</td>\n",
              "      <td>F</td>\n",
              "      <td>f</td>\n",
              "      <td>f</td>\n",
              "      <td>f</td>\n",
              "      <td>f</td>\n",
              "      <td>f</td>\n",
              "      <td>f</td>\n",
              "      <td>f</td>\n",
              "      <td>...</td>\n",
              "      <td>y</td>\n",
              "      <td>0.40</td>\n",
              "      <td>y</td>\n",
              "      <td>6</td>\n",
              "      <td>y</td>\n",
              "      <td>1.04</td>\n",
              "      <td>y</td>\n",
              "      <td>6</td>\n",
              "      <td>n</td>\n",
              "      <td>?</td>\n",
              "    </tr>\n",
              "    <tr>\n",
              "      <th>4</th>\n",
              "      <td>hypothyroid</td>\n",
              "      <td>77</td>\n",
              "      <td>M</td>\n",
              "      <td>f</td>\n",
              "      <td>f</td>\n",
              "      <td>f</td>\n",
              "      <td>f</td>\n",
              "      <td>f</td>\n",
              "      <td>f</td>\n",
              "      <td>f</td>\n",
              "      <td>...</td>\n",
              "      <td>y</td>\n",
              "      <td>1.20</td>\n",
              "      <td>y</td>\n",
              "      <td>57</td>\n",
              "      <td>y</td>\n",
              "      <td>1.28</td>\n",
              "      <td>y</td>\n",
              "      <td>44</td>\n",
              "      <td>n</td>\n",
              "      <td>?</td>\n",
              "    </tr>\n",
              "  </tbody>\n",
              "</table>\n",
              "<p>5 rows × 26 columns</p>\n",
              "</div>\n",
              "      <button class=\"colab-df-convert\" onclick=\"convertToInteractive('df-a4e319f2-ab01-4f21-bbaa-183d920e907b')\"\n",
              "              title=\"Convert this dataframe to an interactive table.\"\n",
              "              style=\"display:none;\">\n",
              "        \n",
              "  <svg xmlns=\"http://www.w3.org/2000/svg\" height=\"24px\"viewBox=\"0 0 24 24\"\n",
              "       width=\"24px\">\n",
              "    <path d=\"M0 0h24v24H0V0z\" fill=\"none\"/>\n",
              "    <path d=\"M18.56 5.44l.94 2.06.94-2.06 2.06-.94-2.06-.94-.94-2.06-.94 2.06-2.06.94zm-11 1L8.5 8.5l.94-2.06 2.06-.94-2.06-.94L8.5 2.5l-.94 2.06-2.06.94zm10 10l.94 2.06.94-2.06 2.06-.94-2.06-.94-.94-2.06-.94 2.06-2.06.94z\"/><path d=\"M17.41 7.96l-1.37-1.37c-.4-.4-.92-.59-1.43-.59-.52 0-1.04.2-1.43.59L10.3 9.45l-7.72 7.72c-.78.78-.78 2.05 0 2.83L4 21.41c.39.39.9.59 1.41.59.51 0 1.02-.2 1.41-.59l7.78-7.78 2.81-2.81c.8-.78.8-2.07 0-2.86zM5.41 20L4 18.59l7.72-7.72 1.47 1.35L5.41 20z\"/>\n",
              "  </svg>\n",
              "      </button>\n",
              "      \n",
              "  <style>\n",
              "    .colab-df-container {\n",
              "      display:flex;\n",
              "      flex-wrap:wrap;\n",
              "      gap: 12px;\n",
              "    }\n",
              "\n",
              "    .colab-df-convert {\n",
              "      background-color: #E8F0FE;\n",
              "      border: none;\n",
              "      border-radius: 50%;\n",
              "      cursor: pointer;\n",
              "      display: none;\n",
              "      fill: #1967D2;\n",
              "      height: 32px;\n",
              "      padding: 0 0 0 0;\n",
              "      width: 32px;\n",
              "    }\n",
              "\n",
              "    .colab-df-convert:hover {\n",
              "      background-color: #E2EBFA;\n",
              "      box-shadow: 0px 1px 2px rgba(60, 64, 67, 0.3), 0px 1px 3px 1px rgba(60, 64, 67, 0.15);\n",
              "      fill: #174EA6;\n",
              "    }\n",
              "\n",
              "    [theme=dark] .colab-df-convert {\n",
              "      background-color: #3B4455;\n",
              "      fill: #D2E3FC;\n",
              "    }\n",
              "\n",
              "    [theme=dark] .colab-df-convert:hover {\n",
              "      background-color: #434B5C;\n",
              "      box-shadow: 0px 1px 3px 1px rgba(0, 0, 0, 0.15);\n",
              "      filter: drop-shadow(0px 1px 2px rgba(0, 0, 0, 0.3));\n",
              "      fill: #FFFFFF;\n",
              "    }\n",
              "  </style>\n",
              "\n",
              "      <script>\n",
              "        const buttonEl =\n",
              "          document.querySelector('#df-a4e319f2-ab01-4f21-bbaa-183d920e907b button.colab-df-convert');\n",
              "        buttonEl.style.display =\n",
              "          google.colab.kernel.accessAllowed ? 'block' : 'none';\n",
              "\n",
              "        async function convertToInteractive(key) {\n",
              "          const element = document.querySelector('#df-a4e319f2-ab01-4f21-bbaa-183d920e907b');\n",
              "          const dataTable =\n",
              "            await google.colab.kernel.invokeFunction('convertToInteractive',\n",
              "                                                     [key], {});\n",
              "          if (!dataTable) return;\n",
              "\n",
              "          const docLinkHtml = 'Like what you see? Visit the ' +\n",
              "            '<a target=\"_blank\" href=https://colab.research.google.com/notebooks/data_table.ipynb>data table notebook</a>'\n",
              "            + ' to learn more about interactive tables.';\n",
              "          element.innerHTML = '';\n",
              "          dataTable['output_type'] = 'display_data';\n",
              "          await google.colab.output.renderOutput(dataTable, element);\n",
              "          const docLink = document.createElement('div');\n",
              "          docLink.innerHTML = docLinkHtml;\n",
              "          element.appendChild(docLink);\n",
              "        }\n",
              "      </script>\n",
              "    </div>\n",
              "  </div>\n",
              "  "
            ]
          },
          "metadata": {},
          "execution_count": 149
        }
      ]
    },
    {
      "cell_type": "code",
      "metadata": {
        "id": "e9AzGcZFrIIr",
        "colab": {
          "base_uri": "https://localhost:8080/",
          "height": 299
        },
        "outputId": "38a60c26-32d8-499c-f474-a391748552c0"
      },
      "source": [
        "# Previewing the bottom of our dataset\n",
        "df.tail()"
      ],
      "execution_count": 150,
      "outputs": [
        {
          "output_type": "execute_result",
          "data": {
            "text/plain": [
              "        status age sex on_thyroxine query_on_thyroxine  \\\n",
              "3158  negative  58   F            f                  f   \n",
              "3159  negative  29   F            f                  f   \n",
              "3160  negative  77   M            f                  f   \n",
              "3161  negative  74   F            f                  f   \n",
              "3162  negative  56   F            t                  f   \n",
              "\n",
              "     on_antithyroid_medication thyroid_surgery query_hypothyroid  \\\n",
              "3158                         f               f                 f   \n",
              "3159                         f               f                 f   \n",
              "3160                         f               f                 f   \n",
              "3161                         f               f                 f   \n",
              "3162                         f               f                 f   \n",
              "\n",
              "     query_hyperthyroid pregnant  ... t3_measured    t3 tt4_measured  tt4  \\\n",
              "3158                  f        f  ...           y  1.70            y   86   \n",
              "3159                  f        f  ...           y  1.80            y   99   \n",
              "3160                  f        f  ...           y  0.60            y   71   \n",
              "3161                  f        f  ...           y  0.10            y   65   \n",
              "3162                  f        f  ...           y  1.80            y  139   \n",
              "\n",
              "     t4u_measured   t4u fti_measured  fti tbg_measured tbg  \n",
              "3158            y  0.91            y   95            n   ?  \n",
              "3159            y  1.01            y   98            n   ?  \n",
              "3160            y  0.68            y  104            n   ?  \n",
              "3161            y  0.48            y  137            n   ?  \n",
              "3162            y  0.97            y  143            n   ?  \n",
              "\n",
              "[5 rows x 26 columns]"
            ],
            "text/html": [
              "\n",
              "  <div id=\"df-d4dedb43-1274-4e8a-98b1-05b6c684434d\">\n",
              "    <div class=\"colab-df-container\">\n",
              "      <div>\n",
              "<style scoped>\n",
              "    .dataframe tbody tr th:only-of-type {\n",
              "        vertical-align: middle;\n",
              "    }\n",
              "\n",
              "    .dataframe tbody tr th {\n",
              "        vertical-align: top;\n",
              "    }\n",
              "\n",
              "    .dataframe thead th {\n",
              "        text-align: right;\n",
              "    }\n",
              "</style>\n",
              "<table border=\"1\" class=\"dataframe\">\n",
              "  <thead>\n",
              "    <tr style=\"text-align: right;\">\n",
              "      <th></th>\n",
              "      <th>status</th>\n",
              "      <th>age</th>\n",
              "      <th>sex</th>\n",
              "      <th>on_thyroxine</th>\n",
              "      <th>query_on_thyroxine</th>\n",
              "      <th>on_antithyroid_medication</th>\n",
              "      <th>thyroid_surgery</th>\n",
              "      <th>query_hypothyroid</th>\n",
              "      <th>query_hyperthyroid</th>\n",
              "      <th>pregnant</th>\n",
              "      <th>...</th>\n",
              "      <th>t3_measured</th>\n",
              "      <th>t3</th>\n",
              "      <th>tt4_measured</th>\n",
              "      <th>tt4</th>\n",
              "      <th>t4u_measured</th>\n",
              "      <th>t4u</th>\n",
              "      <th>fti_measured</th>\n",
              "      <th>fti</th>\n",
              "      <th>tbg_measured</th>\n",
              "      <th>tbg</th>\n",
              "    </tr>\n",
              "  </thead>\n",
              "  <tbody>\n",
              "    <tr>\n",
              "      <th>3158</th>\n",
              "      <td>negative</td>\n",
              "      <td>58</td>\n",
              "      <td>F</td>\n",
              "      <td>f</td>\n",
              "      <td>f</td>\n",
              "      <td>f</td>\n",
              "      <td>f</td>\n",
              "      <td>f</td>\n",
              "      <td>f</td>\n",
              "      <td>f</td>\n",
              "      <td>...</td>\n",
              "      <td>y</td>\n",
              "      <td>1.70</td>\n",
              "      <td>y</td>\n",
              "      <td>86</td>\n",
              "      <td>y</td>\n",
              "      <td>0.91</td>\n",
              "      <td>y</td>\n",
              "      <td>95</td>\n",
              "      <td>n</td>\n",
              "      <td>?</td>\n",
              "    </tr>\n",
              "    <tr>\n",
              "      <th>3159</th>\n",
              "      <td>negative</td>\n",
              "      <td>29</td>\n",
              "      <td>F</td>\n",
              "      <td>f</td>\n",
              "      <td>f</td>\n",
              "      <td>f</td>\n",
              "      <td>f</td>\n",
              "      <td>f</td>\n",
              "      <td>f</td>\n",
              "      <td>f</td>\n",
              "      <td>...</td>\n",
              "      <td>y</td>\n",
              "      <td>1.80</td>\n",
              "      <td>y</td>\n",
              "      <td>99</td>\n",
              "      <td>y</td>\n",
              "      <td>1.01</td>\n",
              "      <td>y</td>\n",
              "      <td>98</td>\n",
              "      <td>n</td>\n",
              "      <td>?</td>\n",
              "    </tr>\n",
              "    <tr>\n",
              "      <th>3160</th>\n",
              "      <td>negative</td>\n",
              "      <td>77</td>\n",
              "      <td>M</td>\n",
              "      <td>f</td>\n",
              "      <td>f</td>\n",
              "      <td>f</td>\n",
              "      <td>f</td>\n",
              "      <td>f</td>\n",
              "      <td>f</td>\n",
              "      <td>f</td>\n",
              "      <td>...</td>\n",
              "      <td>y</td>\n",
              "      <td>0.60</td>\n",
              "      <td>y</td>\n",
              "      <td>71</td>\n",
              "      <td>y</td>\n",
              "      <td>0.68</td>\n",
              "      <td>y</td>\n",
              "      <td>104</td>\n",
              "      <td>n</td>\n",
              "      <td>?</td>\n",
              "    </tr>\n",
              "    <tr>\n",
              "      <th>3161</th>\n",
              "      <td>negative</td>\n",
              "      <td>74</td>\n",
              "      <td>F</td>\n",
              "      <td>f</td>\n",
              "      <td>f</td>\n",
              "      <td>f</td>\n",
              "      <td>f</td>\n",
              "      <td>f</td>\n",
              "      <td>f</td>\n",
              "      <td>f</td>\n",
              "      <td>...</td>\n",
              "      <td>y</td>\n",
              "      <td>0.10</td>\n",
              "      <td>y</td>\n",
              "      <td>65</td>\n",
              "      <td>y</td>\n",
              "      <td>0.48</td>\n",
              "      <td>y</td>\n",
              "      <td>137</td>\n",
              "      <td>n</td>\n",
              "      <td>?</td>\n",
              "    </tr>\n",
              "    <tr>\n",
              "      <th>3162</th>\n",
              "      <td>negative</td>\n",
              "      <td>56</td>\n",
              "      <td>F</td>\n",
              "      <td>t</td>\n",
              "      <td>f</td>\n",
              "      <td>f</td>\n",
              "      <td>f</td>\n",
              "      <td>f</td>\n",
              "      <td>f</td>\n",
              "      <td>f</td>\n",
              "      <td>...</td>\n",
              "      <td>y</td>\n",
              "      <td>1.80</td>\n",
              "      <td>y</td>\n",
              "      <td>139</td>\n",
              "      <td>y</td>\n",
              "      <td>0.97</td>\n",
              "      <td>y</td>\n",
              "      <td>143</td>\n",
              "      <td>n</td>\n",
              "      <td>?</td>\n",
              "    </tr>\n",
              "  </tbody>\n",
              "</table>\n",
              "<p>5 rows × 26 columns</p>\n",
              "</div>\n",
              "      <button class=\"colab-df-convert\" onclick=\"convertToInteractive('df-d4dedb43-1274-4e8a-98b1-05b6c684434d')\"\n",
              "              title=\"Convert this dataframe to an interactive table.\"\n",
              "              style=\"display:none;\">\n",
              "        \n",
              "  <svg xmlns=\"http://www.w3.org/2000/svg\" height=\"24px\"viewBox=\"0 0 24 24\"\n",
              "       width=\"24px\">\n",
              "    <path d=\"M0 0h24v24H0V0z\" fill=\"none\"/>\n",
              "    <path d=\"M18.56 5.44l.94 2.06.94-2.06 2.06-.94-2.06-.94-.94-2.06-.94 2.06-2.06.94zm-11 1L8.5 8.5l.94-2.06 2.06-.94-2.06-.94L8.5 2.5l-.94 2.06-2.06.94zm10 10l.94 2.06.94-2.06 2.06-.94-2.06-.94-.94-2.06-.94 2.06-2.06.94z\"/><path d=\"M17.41 7.96l-1.37-1.37c-.4-.4-.92-.59-1.43-.59-.52 0-1.04.2-1.43.59L10.3 9.45l-7.72 7.72c-.78.78-.78 2.05 0 2.83L4 21.41c.39.39.9.59 1.41.59.51 0 1.02-.2 1.41-.59l7.78-7.78 2.81-2.81c.8-.78.8-2.07 0-2.86zM5.41 20L4 18.59l7.72-7.72 1.47 1.35L5.41 20z\"/>\n",
              "  </svg>\n",
              "      </button>\n",
              "      \n",
              "  <style>\n",
              "    .colab-df-container {\n",
              "      display:flex;\n",
              "      flex-wrap:wrap;\n",
              "      gap: 12px;\n",
              "    }\n",
              "\n",
              "    .colab-df-convert {\n",
              "      background-color: #E8F0FE;\n",
              "      border: none;\n",
              "      border-radius: 50%;\n",
              "      cursor: pointer;\n",
              "      display: none;\n",
              "      fill: #1967D2;\n",
              "      height: 32px;\n",
              "      padding: 0 0 0 0;\n",
              "      width: 32px;\n",
              "    }\n",
              "\n",
              "    .colab-df-convert:hover {\n",
              "      background-color: #E2EBFA;\n",
              "      box-shadow: 0px 1px 2px rgba(60, 64, 67, 0.3), 0px 1px 3px 1px rgba(60, 64, 67, 0.15);\n",
              "      fill: #174EA6;\n",
              "    }\n",
              "\n",
              "    [theme=dark] .colab-df-convert {\n",
              "      background-color: #3B4455;\n",
              "      fill: #D2E3FC;\n",
              "    }\n",
              "\n",
              "    [theme=dark] .colab-df-convert:hover {\n",
              "      background-color: #434B5C;\n",
              "      box-shadow: 0px 1px 3px 1px rgba(0, 0, 0, 0.15);\n",
              "      filter: drop-shadow(0px 1px 2px rgba(0, 0, 0, 0.3));\n",
              "      fill: #FFFFFF;\n",
              "    }\n",
              "  </style>\n",
              "\n",
              "      <script>\n",
              "        const buttonEl =\n",
              "          document.querySelector('#df-d4dedb43-1274-4e8a-98b1-05b6c684434d button.colab-df-convert');\n",
              "        buttonEl.style.display =\n",
              "          google.colab.kernel.accessAllowed ? 'block' : 'none';\n",
              "\n",
              "        async function convertToInteractive(key) {\n",
              "          const element = document.querySelector('#df-d4dedb43-1274-4e8a-98b1-05b6c684434d');\n",
              "          const dataTable =\n",
              "            await google.colab.kernel.invokeFunction('convertToInteractive',\n",
              "                                                     [key], {});\n",
              "          if (!dataTable) return;\n",
              "\n",
              "          const docLinkHtml = 'Like what you see? Visit the ' +\n",
              "            '<a target=\"_blank\" href=https://colab.research.google.com/notebooks/data_table.ipynb>data table notebook</a>'\n",
              "            + ' to learn more about interactive tables.';\n",
              "          element.innerHTML = '';\n",
              "          dataTable['output_type'] = 'display_data';\n",
              "          await google.colab.output.renderOutput(dataTable, element);\n",
              "          const docLink = document.createElement('div');\n",
              "          docLink.innerHTML = docLinkHtml;\n",
              "          element.appendChild(docLink);\n",
              "        }\n",
              "      </script>\n",
              "    </div>\n",
              "  </div>\n",
              "  "
            ]
          },
          "metadata": {},
          "execution_count": 150
        }
      ]
    },
    {
      "cell_type": "code",
      "metadata": {
        "id": "n8-dW4sQWzbc",
        "colab": {
          "base_uri": "https://localhost:8080/"
        },
        "outputId": "5264a2db-12e0-4909-b1e5-6b4e559b39bc"
      },
      "source": [
        "# Checking whether each column has an appropriate datatype\n",
        "df.dtypes"
      ],
      "execution_count": 151,
      "outputs": [
        {
          "output_type": "execute_result",
          "data": {
            "text/plain": [
              "status                       object\n",
              "age                          object\n",
              "sex                          object\n",
              "on_thyroxine                 object\n",
              "query_on_thyroxine           object\n",
              "on_antithyroid_medication    object\n",
              "thyroid_surgery              object\n",
              "query_hypothyroid            object\n",
              "query_hyperthyroid           object\n",
              "pregnant                     object\n",
              "sick                         object\n",
              "tumor                        object\n",
              "lithium                      object\n",
              "goitre                       object\n",
              "tsh_measured                 object\n",
              "tsh                          object\n",
              "t3_measured                  object\n",
              "t3                           object\n",
              "tt4_measured                 object\n",
              "tt4                          object\n",
              "t4u_measured                 object\n",
              "t4u                          object\n",
              "fti_measured                 object\n",
              "fti                          object\n",
              "tbg_measured                 object\n",
              "tbg                          object\n",
              "dtype: object"
            ]
          },
          "metadata": {},
          "execution_count": 151
        }
      ]
    },
    {
      "cell_type": "markdown",
      "metadata": {
        "id": "ckfufNrcUHeH"
      },
      "source": [
        "## 4. External Data Source Validation"
      ]
    },
    {
      "cell_type": "markdown",
      "metadata": {
        "id": "6L4sl_0WXlbg"
      },
      "source": [
        "Making sure your data matches something outside of the dataset is very important. It allows you to ensure that the measurements are roughly in line with what they should be and it serves as a check on what other things might be wrong in your dataset. External validation can often be as simple as checking your data against a single number, as we will do here."
      ]
    },
    {
      "cell_type": "markdown",
      "metadata": {
        "id": "6XC_g-zKxe-r"
      },
      "source": [
        "### a.Validation"
      ]
    },
    {
      "cell_type": "markdown",
      "metadata": {
        "id": "FlBMxEDBUc9B"
      },
      "source": [
        "## 5. Tidying the Dataset"
      ]
    },
    {
      "cell_type": "code",
      "metadata": {
        "id": "PvCYb6dgW4yh",
        "colab": {
          "base_uri": "https://localhost:8080/"
        },
        "outputId": "b52a11fd-30cb-436e-ef00-5749e484da7e"
      },
      "source": [
        "# Identifying the Missing Data\n",
        "print('There are ' + str(df.isnull().sum().sum()) + ' missing values in the dataset')"
      ],
      "execution_count": 152,
      "outputs": [
        {
          "output_type": "stream",
          "name": "stdout",
          "text": [
            "There are 0 missing values in the dataset\n"
          ]
        }
      ]
    },
    {
      "cell_type": "code",
      "source": [
        "# unique column values in the dataset\n",
        "for col in df:\n",
        "  print(df[col].unique())\n",
        "  print('\\n')"
      ],
      "metadata": {
        "colab": {
          "base_uri": "https://localhost:8080/"
        },
        "id": "Jd0T67KRqcDS",
        "outputId": "7cd3146d-2c3d-4cc3-fb3f-990ef3f2fef1"
      },
      "execution_count": 153,
      "outputs": [
        {
          "output_type": "stream",
          "name": "stdout",
          "text": [
            "['hypothyroid' 'negative']\n",
            "\n",
            "\n",
            "['72' '15' '24' '77' '85' '64' '20' '42' '69' '75' '53' '59' '68' '50'\n",
            " '78' '65' '28' '43' '40' '84' '?' '83' '63' '73' '36' '27' '48' '71' '60'\n",
            " '34' '79' '62' '74' '32' '41' '70' '29' '5' '58' '35' '51' '22' '16' '44'\n",
            " '39' '47' '18' '17' '88' '56' '30' '45' '66' '52' '54' '80' '33' '38'\n",
            " '92' '67' '46' '13' '89' '61' '49' '26' '57' '31' '90' '81' '25' '37'\n",
            " '76' '87' '23' '55' '86' '98' '21' '97' '1' '6' '14' '82' '11' '19' '9'\n",
            " '12' '10' '8' '7' '4' '93']\n",
            "\n",
            "\n",
            "['M' 'F' '?']\n",
            "\n",
            "\n",
            "['f' 't']\n",
            "\n",
            "\n",
            "['f' 't']\n",
            "\n",
            "\n",
            "['f' 't']\n",
            "\n",
            "\n",
            "['f' 't']\n",
            "\n",
            "\n",
            "['f' 't']\n",
            "\n",
            "\n",
            "['f' 't']\n",
            "\n",
            "\n",
            "['f' 't']\n",
            "\n",
            "\n",
            "['f' 't']\n",
            "\n",
            "\n",
            "['f' 't']\n",
            "\n",
            "\n",
            "['f' 't']\n",
            "\n",
            "\n",
            "['f' 't']\n",
            "\n",
            "\n",
            "['y' 'n']\n",
            "\n",
            "\n",
            "['30' '145' '0' '430' '7.30' '138' '7.70' '21' '92' '48' '36' '15' '15.30'\n",
            " '25' '61' '28' '170' '54' '216' '56' '71' '46' '70' '34' '53' '9.40'\n",
            " '126' '10' '530' '35' '65' '57' '125' '23' '80' '117' '49' '66' '8.20'\n",
            " '150' '?' '18' '165' '164' '24' '90' '77' '19' '58' '100' '213' '17'\n",
            " '235' '153' '13' '31' '109' '260' '43' '12' '11' '55' '6.50' '20' '7.50'\n",
            " '14' '60' '140' '33' '8.70' '0.25' '10.70' '82' '45' '42' '41' '160' '16'\n",
            " '89' '44' '176' '6.40' '183' '29' '37' '39' '7.90' '59' '68' '38' '47'\n",
            " '143' '6.60' '288' '96' '0.50' '1.20' '1.90' '0.09' '3.10' '0.40' '0.85'\n",
            " '0.30' '0.90' '1.50' '4.60' '0.20' '5.80' '4' '1.40' '2' '2.60' '2.90'\n",
            " '0.80' '4.90' '10.30' '2.30' '0.70' '0.60' '1.30' '2.50' '5.10' '1.70'\n",
            " '2.70' '22' '8.10' '3.30' '5' '3.20' '1.80' '1.10' '0.46' '1' '5.60'\n",
            " '4.40' '16.50' '2.10' '6.30' '5.50' '7.40' '5.90' '0.15' '14.90' '2.20'\n",
            " '9.70' '9.60' '1.60' '3.70' '3' '2.80' '0.10' '4.20' '27' '3.50' '0.05'\n",
            " '19.20' '8' '9.10' '3.60' '7.80' '3.80' '8.50' '9.20' '52' '2.40' '3.90'\n",
            " '0.03' '0.04' '26' '6.10' '0.65' '0.92' '7.60' '8.40' '14.40' '1.05'\n",
            " '0.37' '178' '6.90' '4.50' '4.70' '40' '6' '4.10' '14.30' '5.40' '8.30'\n",
            " '0.06' '8.80' '8.90' '7.10' '4.80' '0.43' '6.70' '200' '8.60' '86' '0.21'\n",
            " '9' '0.26' '3.40' '6.20' '17.40' '85' '1.83' '63' '13.30' '0.02' '0.42'\n",
            " '9.50' '0.84' '0.88' '4.30' '0.67' '0.81' '5.20' '9.80' '76' '0.62'\n",
            " '0.01' '11.40' '88' '0.68' '0.07' '0.69' '0.77' '9.90' '0.64' '13.20'\n",
            " '6.80' '0.28' '11.60' '0.91' '1.01' '0.23' '0.35' '50' '32' '0.83' '0.08']\n",
            "\n",
            "\n",
            "['y' 'n']\n",
            "\n",
            "\n",
            "['0.60' '1.70' '0.20' '0.40' '1.20' '1.10' '1.30' '1.90' '?' '0.80' '2.20'\n",
            " '1.50' '2.70' '2' '0.30' '2.10' '0.50' '0.70' '1' '1.40' '2.30' '2.40'\n",
            " '0.90' '1.80' '0' '2.80' '1.60' '6.70' '3.30' '3' '2.50' '2.60' '4'\n",
            " '9.80' '3.90' '3.40' '3.80' '4.50' '3.20' '3.70' '4.30' '2.90' '3.10'\n",
            " '3.50' '3.60' '6.60' '4.90' '8.90' '4.10' '5' '5.30' '7.60' '7.30' '4.20'\n",
            " '4.40' '5.10' '7' '0.10' '0.05' '4.70' '6.20' '5.50' '4.60' '6.10' '8.10'\n",
            " '5.20' '5.60' '4.80' '10.20' '8.60']\n",
            "\n",
            "\n",
            "['y' 'n']\n",
            "\n",
            "\n",
            "['15' '19' '4' '6' '57' '27' '54' '34' '39' '7.60' '53' '38' '98' '44'\n",
            " '37' '81' '13' '17' '12' '50' '23' '14' '3.90' '52' '32' '30' '84' '10'\n",
            " '55' '24' '28' '11' '6.60' '31' '33' '41' '9' '78' '42' '8.10' '65' '16'\n",
            " '9.70' '46' '22' '61' '2.30' '21' '7.50' '18' '66' '25' '43' '2' '3' '58'\n",
            " '59' '71' '74' '56' '40' '20' '48' '230' '70' '4.10' '63' '5.30' '2.90'\n",
            " '62' '75' '68' '45' '47' '36' '80' '109' '8.60' '83' '82' '101' '76'\n",
            " '103' '112' '206' '110' '93' '79' '121' '?' '107' '88' '187' '254' '115'\n",
            " '113' '260' '117' '164' '97' '64' '129' '111' '106' '95' '87' '105' '90'\n",
            " '67' '134' '35' '193' '143' '130' '108' '86' '96' '92' '99' '216' '152'\n",
            " '125' '138' '194' '91' '120' '102' '170' '126' '116' '140' '94' '159'\n",
            " '85' '210' '89' '151' '247' '139' '153' '178' '123' '137' '161' '7.30'\n",
            " '72' '202' '122' '124' '157' '118' '104' '135' '186' '241' '131' '119'\n",
            " '100' '220' '176' '136' '183' '155' '208' '199' '154' '169' '128' '235'\n",
            " '195' '267' '232' '197' '212' '149' '127' '245' '132' '162' '77' '142'\n",
            " '69' '173' '141' '156' '181' '189' '60' '114' '198' '147' '191' '177'\n",
            " '174' '207' '168' '73' '160' '145' '200' '182' '158' '203' '209' '217'\n",
            " '430' '213' '218' '163' '296' '167' '148' '166' '185' '248' '172' '144'\n",
            " '150' '165' '196' '308' '146' '426' '224' '29' '204' '201' '133' '180'\n",
            " '184' '450' '244' '301' '255' '252' '396' '223' '261' '250' '179' '219'\n",
            " '190' '51' '221' '171' '242' '275' '211' '49' '239' '205' '222' '256'\n",
            " '214' '282' '287' '253' '269' '175' '228' '333' '258' '236' '225' '263'\n",
            " '283' '359' '188' '240']\n",
            "\n",
            "\n",
            "['y' 'n']\n",
            "\n",
            "\n",
            "['1.48' '1.13' '1' '1.04' '1.28' '1.19' '0.86' '1.05' '1.21' '1.02' '0.92'\n",
            " '1.29' '0.98' '1.08' '1.01' '1.18' '1.10' '1.27' '0.83' '1.11' '0.78'\n",
            " '1.39' '1.12' '0.93' '0.99' '0.90' '1.06' '0.68' '0.67' '1.14' '0.80'\n",
            " '0.96' '0.95' '1.46' '1.03' '0.97' '0.94' '1.09' '1.24' '1.23' '1.53'\n",
            " '1.26' '1.40' '1.17' '0.87' '0.61' '0.70' '1.07' '1.73' '1.45' '1.20'\n",
            " '0.89' '0.84' '0.91' '0.85' '1.35' '0.82' '1.50' '0.74' '1.71' '1.79'\n",
            " '0.73' '0.77' '1.25' '?' '0.88' '0.72' '0.31' '0' '0.79' '0.81' '0.71'\n",
            " '1.93' '1.32' '0.66' '1.68' '1.42' '1.70' '1.83' '1.41' '1.34' '1.65'\n",
            " '1.22' '0.75' '1.74' '0.69' '1.51' '0.76' '1.16' '0.35' '0.62' '0.54'\n",
            " '1.36' '1.33' '1.30' '0.48' '1.59' '1.75' '1.86' '1.38' '1.43' '1.62'\n",
            " '2.01' '0.30' '1.31' '1.15' '1.57' '0.55' '1.66' '0.52' '1.97' '1.47'\n",
            " '0.36' '1.88' '1.55' '0.34' '1.67' '0.58' '0.60' '0.59' '1.37' '1.76'\n",
            " '0.64' '1.80' '0.41' '0.20' '1.77' '0.33' '1.54' '0.46' '0.32' '1.44'\n",
            " '1.56' '0.56' '1.52' '2.03' '0.65' '0.63' '1.96' '0.53' '0.47' '0.29'\n",
            " '2.21' '1.69' '1.64' '1.49' '1.72' '1.58' '0.57' '1.61' '0.28' '2' '1.63'\n",
            " '0.27' '1.94' '0.50' '0.49' '0.40' '0.38']\n",
            "\n",
            "\n",
            "['y' 'n']\n",
            "\n",
            "\n",
            "['10' '17' '0' '6' '44' '23' '63' '32' '7.50' '61' '41' '76' '45' '34'\n",
            " '81' '11' '16' '46' '22' '12' '5' '47' '29' '37' '60' '8.40' '8.50' '24'\n",
            " '28' '7' '49' '36' '15' '9' '80' '53' '7.20' '68' '6.60' '48' '21' '14'\n",
            " '2' '20' '1.40' '56' '3' '51' '13' '43' '78' '52' '64' '26' '35' '31'\n",
            " '133' '3.40' '54' '8.90' '57' '5.50' '58' '55' '2.80' '66' '4' '40' '50'\n",
            " '8.70' '87' '89' '112' '123' '99' '92' '104' '69' '196' '107' '106' '74'\n",
            " '97' '?' '122' '84' '114' '124' '241' '119' '120' '136' '85' '127' '839'\n",
            " '137' '197' '96' '77' '108' '82' '72' '94' '91' '240' '121' '109' '79'\n",
            " '100' '98' '73' '117' '165' '103' '88' '101' '126' '132' '128' '143'\n",
            " '152' '141' '186' '113' '102' '125' '93' '105' '159' '188' '71' '149'\n",
            " '116' '83' '176' '161' '86' '140' '111' '158' '115' '171' '90' '95' '70'\n",
            " '135' '134' '178' '110' '170' '205' '695' '155' '118' '741' '131' '129'\n",
            " '142' '153' '75' '254' '246' '139' '185' '157' '147' '164' '130' '222'\n",
            " '650' '174' '182' '144' '169' '257' '145' '345' '180' '167' '151' '154'\n",
            " '150' '219' '228' '65' '187' '166' '195' '208' '138' '33' '173' '146'\n",
            " '211' '181' '190' '247' '221' '395' '216' '212' '148' '162' '220' '370'\n",
            " '450' '160' '59' '189' '203' '168' '179' '264' '470' '184' '163' '67'\n",
            " '213' '354' '292' '359' '172' '156' '334' '177' '214' '194' '192' '215'\n",
            " '217' '271' '250' '244' '308' '881' '258' '316' '200' '711' '256' '232'\n",
            " '202' '39' '248' '237' '259' '445' '19' '852' '42' '235' '634' '283'\n",
            " '305' '204' '229' '332' '550' '249' '263' '615' '266' '198' '175' '209'\n",
            " '299' '193' '227' '223' '337' '210' '272' '702' '218' '239' '355' '482'\n",
            " '347' '485' '612' '428']\n",
            "\n",
            "\n",
            "['n' 'y']\n",
            "\n",
            "\n",
            "['?' '28' '34' '0' '19' '30' '25' '48' '39' '31' '16' '21' '37' '40' '27'\n",
            " '3.10' '38' '108' '20' '36' '17' '23' '35' '32' '63' '9.30' '15' '26'\n",
            " '33' '41' '110' '22' '43' '53' '80' '47' '29' '13' '24' '18' '45' '86'\n",
            " '50' '8.40' '52' '11' '12' '14' '65' '7.30' '8.50' '69' '122']\n",
            "\n",
            "\n"
          ]
        }
      ]
    },
    {
      "cell_type": "markdown",
      "source": [
        "There are no missing data but there are ? symbols instead. To perform more operations on our data, the ? symbols need to be replaced appropriately in the respective columns."
      ],
      "metadata": {
        "id": "YiN54z9hoSfr"
      }
    },
    {
      "cell_type": "markdown",
      "source": [
        "Because all the columns are in string datatype, I will first replace the ? with 0 then fill them appropriately after changing the datatypes."
      ],
      "metadata": {
        "id": "QyyWT8hTodmK"
      }
    },
    {
      "cell_type": "code",
      "metadata": {
        "id": "MpsDGKZHsf_W",
        "colab": {
          "base_uri": "https://localhost:8080/",
          "height": 299
        },
        "outputId": "19c8e543-2b8a-49bc-de3a-47332f3567ad"
      },
      "source": [
        "# replacing ? with 0 in the numerical columns\n",
        "df[['age', 'tsh', 't3', 'tt4', 't4u', 'fti', 'tbg']] = df[['age', 'tsh', 't3', 'tt4', 't4u', 'fti', 'tbg']].replace(['?'],'0')\n",
        "df.head()"
      ],
      "execution_count": 154,
      "outputs": [
        {
          "output_type": "execute_result",
          "data": {
            "text/plain": [
              "        status age sex on_thyroxine query_on_thyroxine  \\\n",
              "0  hypothyroid  72   M            f                  f   \n",
              "1  hypothyroid  15   F            t                  f   \n",
              "2  hypothyroid  24   M            f                  f   \n",
              "3  hypothyroid  24   F            f                  f   \n",
              "4  hypothyroid  77   M            f                  f   \n",
              "\n",
              "  on_antithyroid_medication thyroid_surgery query_hypothyroid  \\\n",
              "0                         f               f                 f   \n",
              "1                         f               f                 f   \n",
              "2                         f               f                 f   \n",
              "3                         f               f                 f   \n",
              "4                         f               f                 f   \n",
              "\n",
              "  query_hyperthyroid pregnant  ... t3_measured    t3 tt4_measured tt4  \\\n",
              "0                  f        f  ...           y  0.60            y  15   \n",
              "1                  f        f  ...           y  1.70            y  19   \n",
              "2                  f        f  ...           y  0.20            y   4   \n",
              "3                  f        f  ...           y  0.40            y   6   \n",
              "4                  f        f  ...           y  1.20            y  57   \n",
              "\n",
              "  t4u_measured   t4u fti_measured fti tbg_measured tbg  \n",
              "0            y  1.48            y  10            n   0  \n",
              "1            y  1.13            y  17            n   0  \n",
              "2            y     1            y   0            n   0  \n",
              "3            y  1.04            y   6            n   0  \n",
              "4            y  1.28            y  44            n   0  \n",
              "\n",
              "[5 rows x 26 columns]"
            ],
            "text/html": [
              "\n",
              "  <div id=\"df-618b42e3-263e-4c08-850d-9070b45420eb\">\n",
              "    <div class=\"colab-df-container\">\n",
              "      <div>\n",
              "<style scoped>\n",
              "    .dataframe tbody tr th:only-of-type {\n",
              "        vertical-align: middle;\n",
              "    }\n",
              "\n",
              "    .dataframe tbody tr th {\n",
              "        vertical-align: top;\n",
              "    }\n",
              "\n",
              "    .dataframe thead th {\n",
              "        text-align: right;\n",
              "    }\n",
              "</style>\n",
              "<table border=\"1\" class=\"dataframe\">\n",
              "  <thead>\n",
              "    <tr style=\"text-align: right;\">\n",
              "      <th></th>\n",
              "      <th>status</th>\n",
              "      <th>age</th>\n",
              "      <th>sex</th>\n",
              "      <th>on_thyroxine</th>\n",
              "      <th>query_on_thyroxine</th>\n",
              "      <th>on_antithyroid_medication</th>\n",
              "      <th>thyroid_surgery</th>\n",
              "      <th>query_hypothyroid</th>\n",
              "      <th>query_hyperthyroid</th>\n",
              "      <th>pregnant</th>\n",
              "      <th>...</th>\n",
              "      <th>t3_measured</th>\n",
              "      <th>t3</th>\n",
              "      <th>tt4_measured</th>\n",
              "      <th>tt4</th>\n",
              "      <th>t4u_measured</th>\n",
              "      <th>t4u</th>\n",
              "      <th>fti_measured</th>\n",
              "      <th>fti</th>\n",
              "      <th>tbg_measured</th>\n",
              "      <th>tbg</th>\n",
              "    </tr>\n",
              "  </thead>\n",
              "  <tbody>\n",
              "    <tr>\n",
              "      <th>0</th>\n",
              "      <td>hypothyroid</td>\n",
              "      <td>72</td>\n",
              "      <td>M</td>\n",
              "      <td>f</td>\n",
              "      <td>f</td>\n",
              "      <td>f</td>\n",
              "      <td>f</td>\n",
              "      <td>f</td>\n",
              "      <td>f</td>\n",
              "      <td>f</td>\n",
              "      <td>...</td>\n",
              "      <td>y</td>\n",
              "      <td>0.60</td>\n",
              "      <td>y</td>\n",
              "      <td>15</td>\n",
              "      <td>y</td>\n",
              "      <td>1.48</td>\n",
              "      <td>y</td>\n",
              "      <td>10</td>\n",
              "      <td>n</td>\n",
              "      <td>0</td>\n",
              "    </tr>\n",
              "    <tr>\n",
              "      <th>1</th>\n",
              "      <td>hypothyroid</td>\n",
              "      <td>15</td>\n",
              "      <td>F</td>\n",
              "      <td>t</td>\n",
              "      <td>f</td>\n",
              "      <td>f</td>\n",
              "      <td>f</td>\n",
              "      <td>f</td>\n",
              "      <td>f</td>\n",
              "      <td>f</td>\n",
              "      <td>...</td>\n",
              "      <td>y</td>\n",
              "      <td>1.70</td>\n",
              "      <td>y</td>\n",
              "      <td>19</td>\n",
              "      <td>y</td>\n",
              "      <td>1.13</td>\n",
              "      <td>y</td>\n",
              "      <td>17</td>\n",
              "      <td>n</td>\n",
              "      <td>0</td>\n",
              "    </tr>\n",
              "    <tr>\n",
              "      <th>2</th>\n",
              "      <td>hypothyroid</td>\n",
              "      <td>24</td>\n",
              "      <td>M</td>\n",
              "      <td>f</td>\n",
              "      <td>f</td>\n",
              "      <td>f</td>\n",
              "      <td>f</td>\n",
              "      <td>f</td>\n",
              "      <td>f</td>\n",
              "      <td>f</td>\n",
              "      <td>...</td>\n",
              "      <td>y</td>\n",
              "      <td>0.20</td>\n",
              "      <td>y</td>\n",
              "      <td>4</td>\n",
              "      <td>y</td>\n",
              "      <td>1</td>\n",
              "      <td>y</td>\n",
              "      <td>0</td>\n",
              "      <td>n</td>\n",
              "      <td>0</td>\n",
              "    </tr>\n",
              "    <tr>\n",
              "      <th>3</th>\n",
              "      <td>hypothyroid</td>\n",
              "      <td>24</td>\n",
              "      <td>F</td>\n",
              "      <td>f</td>\n",
              "      <td>f</td>\n",
              "      <td>f</td>\n",
              "      <td>f</td>\n",
              "      <td>f</td>\n",
              "      <td>f</td>\n",
              "      <td>f</td>\n",
              "      <td>...</td>\n",
              "      <td>y</td>\n",
              "      <td>0.40</td>\n",
              "      <td>y</td>\n",
              "      <td>6</td>\n",
              "      <td>y</td>\n",
              "      <td>1.04</td>\n",
              "      <td>y</td>\n",
              "      <td>6</td>\n",
              "      <td>n</td>\n",
              "      <td>0</td>\n",
              "    </tr>\n",
              "    <tr>\n",
              "      <th>4</th>\n",
              "      <td>hypothyroid</td>\n",
              "      <td>77</td>\n",
              "      <td>M</td>\n",
              "      <td>f</td>\n",
              "      <td>f</td>\n",
              "      <td>f</td>\n",
              "      <td>f</td>\n",
              "      <td>f</td>\n",
              "      <td>f</td>\n",
              "      <td>f</td>\n",
              "      <td>...</td>\n",
              "      <td>y</td>\n",
              "      <td>1.20</td>\n",
              "      <td>y</td>\n",
              "      <td>57</td>\n",
              "      <td>y</td>\n",
              "      <td>1.28</td>\n",
              "      <td>y</td>\n",
              "      <td>44</td>\n",
              "      <td>n</td>\n",
              "      <td>0</td>\n",
              "    </tr>\n",
              "  </tbody>\n",
              "</table>\n",
              "<p>5 rows × 26 columns</p>\n",
              "</div>\n",
              "      <button class=\"colab-df-convert\" onclick=\"convertToInteractive('df-618b42e3-263e-4c08-850d-9070b45420eb')\"\n",
              "              title=\"Convert this dataframe to an interactive table.\"\n",
              "              style=\"display:none;\">\n",
              "        \n",
              "  <svg xmlns=\"http://www.w3.org/2000/svg\" height=\"24px\"viewBox=\"0 0 24 24\"\n",
              "       width=\"24px\">\n",
              "    <path d=\"M0 0h24v24H0V0z\" fill=\"none\"/>\n",
              "    <path d=\"M18.56 5.44l.94 2.06.94-2.06 2.06-.94-2.06-.94-.94-2.06-.94 2.06-2.06.94zm-11 1L8.5 8.5l.94-2.06 2.06-.94-2.06-.94L8.5 2.5l-.94 2.06-2.06.94zm10 10l.94 2.06.94-2.06 2.06-.94-2.06-.94-.94-2.06-.94 2.06-2.06.94z\"/><path d=\"M17.41 7.96l-1.37-1.37c-.4-.4-.92-.59-1.43-.59-.52 0-1.04.2-1.43.59L10.3 9.45l-7.72 7.72c-.78.78-.78 2.05 0 2.83L4 21.41c.39.39.9.59 1.41.59.51 0 1.02-.2 1.41-.59l7.78-7.78 2.81-2.81c.8-.78.8-2.07 0-2.86zM5.41 20L4 18.59l7.72-7.72 1.47 1.35L5.41 20z\"/>\n",
              "  </svg>\n",
              "      </button>\n",
              "      \n",
              "  <style>\n",
              "    .colab-df-container {\n",
              "      display:flex;\n",
              "      flex-wrap:wrap;\n",
              "      gap: 12px;\n",
              "    }\n",
              "\n",
              "    .colab-df-convert {\n",
              "      background-color: #E8F0FE;\n",
              "      border: none;\n",
              "      border-radius: 50%;\n",
              "      cursor: pointer;\n",
              "      display: none;\n",
              "      fill: #1967D2;\n",
              "      height: 32px;\n",
              "      padding: 0 0 0 0;\n",
              "      width: 32px;\n",
              "    }\n",
              "\n",
              "    .colab-df-convert:hover {\n",
              "      background-color: #E2EBFA;\n",
              "      box-shadow: 0px 1px 2px rgba(60, 64, 67, 0.3), 0px 1px 3px 1px rgba(60, 64, 67, 0.15);\n",
              "      fill: #174EA6;\n",
              "    }\n",
              "\n",
              "    [theme=dark] .colab-df-convert {\n",
              "      background-color: #3B4455;\n",
              "      fill: #D2E3FC;\n",
              "    }\n",
              "\n",
              "    [theme=dark] .colab-df-convert:hover {\n",
              "      background-color: #434B5C;\n",
              "      box-shadow: 0px 1px 3px 1px rgba(0, 0, 0, 0.15);\n",
              "      filter: drop-shadow(0px 1px 2px rgba(0, 0, 0, 0.3));\n",
              "      fill: #FFFFFF;\n",
              "    }\n",
              "  </style>\n",
              "\n",
              "      <script>\n",
              "        const buttonEl =\n",
              "          document.querySelector('#df-618b42e3-263e-4c08-850d-9070b45420eb button.colab-df-convert');\n",
              "        buttonEl.style.display =\n",
              "          google.colab.kernel.accessAllowed ? 'block' : 'none';\n",
              "\n",
              "        async function convertToInteractive(key) {\n",
              "          const element = document.querySelector('#df-618b42e3-263e-4c08-850d-9070b45420eb');\n",
              "          const dataTable =\n",
              "            await google.colab.kernel.invokeFunction('convertToInteractive',\n",
              "                                                     [key], {});\n",
              "          if (!dataTable) return;\n",
              "\n",
              "          const docLinkHtml = 'Like what you see? Visit the ' +\n",
              "            '<a target=\"_blank\" href=https://colab.research.google.com/notebooks/data_table.ipynb>data table notebook</a>'\n",
              "            + ' to learn more about interactive tables.';\n",
              "          element.innerHTML = '';\n",
              "          dataTable['output_type'] = 'display_data';\n",
              "          await google.colab.output.renderOutput(dataTable, element);\n",
              "          const docLink = document.createElement('div');\n",
              "          docLink.innerHTML = docLinkHtml;\n",
              "          element.appendChild(docLink);\n",
              "        }\n",
              "      </script>\n",
              "    </div>\n",
              "  </div>\n",
              "  "
            ]
          },
          "metadata": {},
          "execution_count": 154
        }
      ]
    },
    {
      "cell_type": "markdown",
      "source": [
        "A research from [this](https://https://www.ncbi.nlm.nih.gov/pmc/articles/PMC5058901/#:~:text=Our%20results%20confirmed%20that%20females,hypothyroidism%20and%20hyperthyroidism%20than%20males.) source reveals that hypothyroidism is common in females more than in males. Therefore, the ? symbol in the sex column will be replaced with F. But, because we don't want to replace wrongly, we will first check against the pregnant column to be sure."
      ],
      "metadata": {
        "id": "ouZGjKGoy_CG"
      }
    },
    {
      "cell_type": "code",
      "source": [
        "print(df.loc[df['pregnant'] == 't', 'sex'].to_markdown())\n",
        "\n",
        "# the results below show that we have an instance of a pregnant person with unknown gender\n",
        "# so we can go ahead and fill all the ? symbols with F"
      ],
      "metadata": {
        "colab": {
          "base_uri": "https://localhost:8080/"
        },
        "id": "NyeqkF1T09ml",
        "outputId": "ea71b52c-891f-486b-ce28-e71a6f3f9c0f"
      },
      "execution_count": 155,
      "outputs": [
        {
          "output_type": "stream",
          "name": "stdout",
          "text": [
            "|      | sex   |\n",
            "|-----:|:------|\n",
            "|  120 | F     |\n",
            "|  171 | F     |\n",
            "|  248 | F     |\n",
            "|  273 | F     |\n",
            "|  398 | F     |\n",
            "|  429 | F     |\n",
            "|  430 | F     |\n",
            "|  484 | F     |\n",
            "|  544 | F     |\n",
            "|  615 | F     |\n",
            "|  720 | F     |\n",
            "|  725 | F     |\n",
            "|  809 | F     |\n",
            "|  876 | F     |\n",
            "|  970 | F     |\n",
            "| 1001 | F     |\n",
            "| 1052 | F     |\n",
            "| 1152 | F     |\n",
            "| 1219 | F     |\n",
            "| 1222 | F     |\n",
            "| 1258 | F     |\n",
            "| 1282 | F     |\n",
            "| 1362 | F     |\n",
            "| 1368 | F     |\n",
            "| 1449 | F     |\n",
            "| 1468 | F     |\n",
            "| 1523 | F     |\n",
            "| 1539 | F     |\n",
            "| 1561 | F     |\n",
            "| 1572 | F     |\n",
            "| 1579 | F     |\n",
            "| 1584 | F     |\n",
            "| 1588 | F     |\n",
            "| 1643 | F     |\n",
            "| 1662 | F     |\n",
            "| 1691 | F     |\n",
            "| 1697 | F     |\n",
            "| 1701 | F     |\n",
            "| 1799 | F     |\n",
            "| 1926 | F     |\n",
            "| 1954 | F     |\n",
            "| 1963 | F     |\n",
            "| 2058 | F     |\n",
            "| 2124 | F     |\n",
            "| 2156 | F     |\n",
            "| 2160 | F     |\n",
            "| 2181 | F     |\n",
            "| 2218 | F     |\n",
            "| 2249 | F     |\n",
            "| 2358 | F     |\n",
            "| 2362 | F     |\n",
            "| 2520 | F     |\n",
            "| 2554 | F     |\n",
            "| 2580 | F     |\n",
            "| 2737 | F     |\n",
            "| 2798 | F     |\n",
            "| 2826 | F     |\n",
            "| 2888 | ?     |\n",
            "| 2901 | F     |\n",
            "| 2944 | F     |\n",
            "| 2975 | F     |\n",
            "| 3026 | F     |\n",
            "| 3051 | F     |\n"
          ]
        }
      ]
    },
    {
      "cell_type": "code",
      "source": [
        "# replacing the ? symbol in the sex column\n",
        "df['sex'] = df['sex'].replace(['?'],'F')"
      ],
      "metadata": {
        "id": "zMhmZveqy0Xu"
      },
      "execution_count": 156,
      "outputs": []
    },
    {
      "cell_type": "markdown",
      "source": [
        "Now that we have the columns with appropriate datatypes, we can fill the 0 age values with the median."
      ],
      "metadata": {
        "id": "BKPMpS9N81d-"
      }
    },
    {
      "cell_type": "code",
      "source": [
        "# changing numerical column datatypes to int/float\n",
        "df[['tsh', 't3', 'tt4', 't4u', 'fti', 'tbg']] = df[['tsh', 't3', 'tt4', 't4u', 'fti', 'tbg']].astype(float)\n",
        "df['age'] = df['age'].astype(int)"
      ],
      "metadata": {
        "id": "-DdeaUlzaHFa"
      },
      "execution_count": 172,
      "outputs": []
    },
    {
      "cell_type": "code",
      "source": [
        "df['age'].replace(0, df['age'].median())"
      ],
      "metadata": {
        "colab": {
          "base_uri": "https://localhost:8080/"
        },
        "id": "rHPW-x1c9NvX",
        "outputId": "3b67b414-894f-4ded-8846-37d46899cef9"
      },
      "execution_count": 173,
      "outputs": [
        {
          "output_type": "execute_result",
          "data": {
            "text/plain": [
              "0       72\n",
              "1       15\n",
              "2       24\n",
              "3       24\n",
              "4       77\n",
              "        ..\n",
              "3158    58\n",
              "3159    29\n",
              "3160    77\n",
              "3161    74\n",
              "3162    56\n",
              "Name: age, Length: 3163, dtype: int64"
            ]
          },
          "metadata": {},
          "execution_count": 173
        }
      ]
    },
    {
      "cell_type": "code",
      "source": [
        "df.head(2)"
      ],
      "metadata": {
        "colab": {
          "base_uri": "https://localhost:8080/",
          "height": 205
        },
        "id": "0xkEIOaxvjkw",
        "outputId": "c65b29e7-1520-4289-8480-f9915096761a"
      },
      "execution_count": 174,
      "outputs": [
        {
          "output_type": "execute_result",
          "data": {
            "text/plain": [
              "        status  age sex on_thyroxine query_on_thyroxine  \\\n",
              "0  hypothyroid   72   M            f                  f   \n",
              "1  hypothyroid   15   F            t                  f   \n",
              "\n",
              "  on_antithyroid_medication thyroid_surgery query_hypothyroid  \\\n",
              "0                         f               f                 f   \n",
              "1                         f               f                 f   \n",
              "\n",
              "  query_hyperthyroid pregnant  ... t3_measured   t3 tt4_measured   tt4  \\\n",
              "0                  f        f  ...           y  0.6            y  15.0   \n",
              "1                  f        f  ...           y  1.7            y  19.0   \n",
              "\n",
              "  t4u_measured   t4u fti_measured   fti tbg_measured  tbg  \n",
              "0            y  1.48            y  10.0            n  0.0  \n",
              "1            y  1.13            y  17.0            n  0.0  \n",
              "\n",
              "[2 rows x 26 columns]"
            ],
            "text/html": [
              "\n",
              "  <div id=\"df-ebe7abe1-9b3b-4001-8c2d-ac7d3b23b8c3\">\n",
              "    <div class=\"colab-df-container\">\n",
              "      <div>\n",
              "<style scoped>\n",
              "    .dataframe tbody tr th:only-of-type {\n",
              "        vertical-align: middle;\n",
              "    }\n",
              "\n",
              "    .dataframe tbody tr th {\n",
              "        vertical-align: top;\n",
              "    }\n",
              "\n",
              "    .dataframe thead th {\n",
              "        text-align: right;\n",
              "    }\n",
              "</style>\n",
              "<table border=\"1\" class=\"dataframe\">\n",
              "  <thead>\n",
              "    <tr style=\"text-align: right;\">\n",
              "      <th></th>\n",
              "      <th>status</th>\n",
              "      <th>age</th>\n",
              "      <th>sex</th>\n",
              "      <th>on_thyroxine</th>\n",
              "      <th>query_on_thyroxine</th>\n",
              "      <th>on_antithyroid_medication</th>\n",
              "      <th>thyroid_surgery</th>\n",
              "      <th>query_hypothyroid</th>\n",
              "      <th>query_hyperthyroid</th>\n",
              "      <th>pregnant</th>\n",
              "      <th>...</th>\n",
              "      <th>t3_measured</th>\n",
              "      <th>t3</th>\n",
              "      <th>tt4_measured</th>\n",
              "      <th>tt4</th>\n",
              "      <th>t4u_measured</th>\n",
              "      <th>t4u</th>\n",
              "      <th>fti_measured</th>\n",
              "      <th>fti</th>\n",
              "      <th>tbg_measured</th>\n",
              "      <th>tbg</th>\n",
              "    </tr>\n",
              "  </thead>\n",
              "  <tbody>\n",
              "    <tr>\n",
              "      <th>0</th>\n",
              "      <td>hypothyroid</td>\n",
              "      <td>72</td>\n",
              "      <td>M</td>\n",
              "      <td>f</td>\n",
              "      <td>f</td>\n",
              "      <td>f</td>\n",
              "      <td>f</td>\n",
              "      <td>f</td>\n",
              "      <td>f</td>\n",
              "      <td>f</td>\n",
              "      <td>...</td>\n",
              "      <td>y</td>\n",
              "      <td>0.6</td>\n",
              "      <td>y</td>\n",
              "      <td>15.0</td>\n",
              "      <td>y</td>\n",
              "      <td>1.48</td>\n",
              "      <td>y</td>\n",
              "      <td>10.0</td>\n",
              "      <td>n</td>\n",
              "      <td>0.0</td>\n",
              "    </tr>\n",
              "    <tr>\n",
              "      <th>1</th>\n",
              "      <td>hypothyroid</td>\n",
              "      <td>15</td>\n",
              "      <td>F</td>\n",
              "      <td>t</td>\n",
              "      <td>f</td>\n",
              "      <td>f</td>\n",
              "      <td>f</td>\n",
              "      <td>f</td>\n",
              "      <td>f</td>\n",
              "      <td>f</td>\n",
              "      <td>...</td>\n",
              "      <td>y</td>\n",
              "      <td>1.7</td>\n",
              "      <td>y</td>\n",
              "      <td>19.0</td>\n",
              "      <td>y</td>\n",
              "      <td>1.13</td>\n",
              "      <td>y</td>\n",
              "      <td>17.0</td>\n",
              "      <td>n</td>\n",
              "      <td>0.0</td>\n",
              "    </tr>\n",
              "  </tbody>\n",
              "</table>\n",
              "<p>2 rows × 26 columns</p>\n",
              "</div>\n",
              "      <button class=\"colab-df-convert\" onclick=\"convertToInteractive('df-ebe7abe1-9b3b-4001-8c2d-ac7d3b23b8c3')\"\n",
              "              title=\"Convert this dataframe to an interactive table.\"\n",
              "              style=\"display:none;\">\n",
              "        \n",
              "  <svg xmlns=\"http://www.w3.org/2000/svg\" height=\"24px\"viewBox=\"0 0 24 24\"\n",
              "       width=\"24px\">\n",
              "    <path d=\"M0 0h24v24H0V0z\" fill=\"none\"/>\n",
              "    <path d=\"M18.56 5.44l.94 2.06.94-2.06 2.06-.94-2.06-.94-.94-2.06-.94 2.06-2.06.94zm-11 1L8.5 8.5l.94-2.06 2.06-.94-2.06-.94L8.5 2.5l-.94 2.06-2.06.94zm10 10l.94 2.06.94-2.06 2.06-.94-2.06-.94-.94-2.06-.94 2.06-2.06.94z\"/><path d=\"M17.41 7.96l-1.37-1.37c-.4-.4-.92-.59-1.43-.59-.52 0-1.04.2-1.43.59L10.3 9.45l-7.72 7.72c-.78.78-.78 2.05 0 2.83L4 21.41c.39.39.9.59 1.41.59.51 0 1.02-.2 1.41-.59l7.78-7.78 2.81-2.81c.8-.78.8-2.07 0-2.86zM5.41 20L4 18.59l7.72-7.72 1.47 1.35L5.41 20z\"/>\n",
              "  </svg>\n",
              "      </button>\n",
              "      \n",
              "  <style>\n",
              "    .colab-df-container {\n",
              "      display:flex;\n",
              "      flex-wrap:wrap;\n",
              "      gap: 12px;\n",
              "    }\n",
              "\n",
              "    .colab-df-convert {\n",
              "      background-color: #E8F0FE;\n",
              "      border: none;\n",
              "      border-radius: 50%;\n",
              "      cursor: pointer;\n",
              "      display: none;\n",
              "      fill: #1967D2;\n",
              "      height: 32px;\n",
              "      padding: 0 0 0 0;\n",
              "      width: 32px;\n",
              "    }\n",
              "\n",
              "    .colab-df-convert:hover {\n",
              "      background-color: #E2EBFA;\n",
              "      box-shadow: 0px 1px 2px rgba(60, 64, 67, 0.3), 0px 1px 3px 1px rgba(60, 64, 67, 0.15);\n",
              "      fill: #174EA6;\n",
              "    }\n",
              "\n",
              "    [theme=dark] .colab-df-convert {\n",
              "      background-color: #3B4455;\n",
              "      fill: #D2E3FC;\n",
              "    }\n",
              "\n",
              "    [theme=dark] .colab-df-convert:hover {\n",
              "      background-color: #434B5C;\n",
              "      box-shadow: 0px 1px 3px 1px rgba(0, 0, 0, 0.15);\n",
              "      filter: drop-shadow(0px 1px 2px rgba(0, 0, 0, 0.3));\n",
              "      fill: #FFFFFF;\n",
              "    }\n",
              "  </style>\n",
              "\n",
              "      <script>\n",
              "        const buttonEl =\n",
              "          document.querySelector('#df-ebe7abe1-9b3b-4001-8c2d-ac7d3b23b8c3 button.colab-df-convert');\n",
              "        buttonEl.style.display =\n",
              "          google.colab.kernel.accessAllowed ? 'block' : 'none';\n",
              "\n",
              "        async function convertToInteractive(key) {\n",
              "          const element = document.querySelector('#df-ebe7abe1-9b3b-4001-8c2d-ac7d3b23b8c3');\n",
              "          const dataTable =\n",
              "            await google.colab.kernel.invokeFunction('convertToInteractive',\n",
              "                                                     [key], {});\n",
              "          if (!dataTable) return;\n",
              "\n",
              "          const docLinkHtml = 'Like what you see? Visit the ' +\n",
              "            '<a target=\"_blank\" href=https://colab.research.google.com/notebooks/data_table.ipynb>data table notebook</a>'\n",
              "            + ' to learn more about interactive tables.';\n",
              "          element.innerHTML = '';\n",
              "          dataTable['output_type'] = 'display_data';\n",
              "          await google.colab.output.renderOutput(dataTable, element);\n",
              "          const docLink = document.createElement('div');\n",
              "          docLink.innerHTML = docLinkHtml;\n",
              "          element.appendChild(docLink);\n",
              "        }\n",
              "      </script>\n",
              "    </div>\n",
              "  </div>\n",
              "  "
            ]
          },
          "metadata": {},
          "execution_count": 174
        }
      ]
    },
    {
      "cell_type": "code",
      "source": [
        "df.dtypes"
      ],
      "metadata": {
        "colab": {
          "base_uri": "https://localhost:8080/"
        },
        "id": "wp7EXIWq-UH1",
        "outputId": "198df7df-5dc7-40b4-a660-28f84904550b"
      },
      "execution_count": 175,
      "outputs": [
        {
          "output_type": "execute_result",
          "data": {
            "text/plain": [
              "status                        object\n",
              "age                            int64\n",
              "sex                           object\n",
              "on_thyroxine                  object\n",
              "query_on_thyroxine            object\n",
              "on_antithyroid_medication     object\n",
              "thyroid_surgery               object\n",
              "query_hypothyroid             object\n",
              "query_hyperthyroid            object\n",
              "pregnant                      object\n",
              "sick                          object\n",
              "tumor                         object\n",
              "lithium                       object\n",
              "goitre                        object\n",
              "tsh_measured                  object\n",
              "tsh                          float64\n",
              "t3_measured                   object\n",
              "t3                           float64\n",
              "tt4_measured                  object\n",
              "tt4                          float64\n",
              "t4u_measured                  object\n",
              "t4u                          float64\n",
              "fti_measured                  object\n",
              "fti                          float64\n",
              "tbg_measured                  object\n",
              "tbg                          float64\n",
              "dtype: object"
            ]
          },
          "metadata": {},
          "execution_count": 175
        }
      ]
    },
    {
      "cell_type": "code",
      "metadata": {
        "id": "5o_bQcT5W3Wz"
      },
      "source": [
        "# Checking for Outliers\n",
        "def box(columns):\n",
        "  fig, ax = plt.subplots(ncols = len(columns), figsize=(15,5))\n",
        "\n",
        "  for i, col_val in enumerate(columns):\n",
        "      sns.boxplot(y = df[col_val], ax= ax[i])\n",
        "      ax[i].set_title('Box plot for {}'.format(col_val), fontsize=10)\n",
        "      ax[i].set_xlabel(col_val, fontsize= 8)\n",
        "  return plt.show()    \n"
      ],
      "execution_count": 185,
      "outputs": []
    },
    {
      "cell_type": "code",
      "source": [
        "col_names = ['age', 'tsh', 't3', 'tt4']\n",
        "box(col_names)"
      ],
      "metadata": {
        "colab": {
          "base_uri": "https://localhost:8080/",
          "height": 337
        },
        "id": "-ZSUZmL7CQxd",
        "outputId": "e6aba7b8-f7d3-49bc-f703-56c7e238ff31"
      },
      "execution_count": 186,
      "outputs": [
        {
          "output_type": "display_data",
          "data": {
            "text/plain": [
              "<Figure size 1080x360 with 4 Axes>"
            ],
            "image/png": "[encoded data removed]"
          },
          "metadata": {
            "needs_background": "light"
          }
        }
      ]
    },
    {
      "cell_type": "code",
      "source": [
        "col_names = ['t4u', 'fti', 'tbg']\n",
        "box(col_names)"
      ],
      "metadata": {
        "colab": {
          "base_uri": "https://localhost:8080/",
          "height": 337
        },
        "id": "8F-cPrpxCZaQ",
        "outputId": "9399961e-6a4d-4d95-f8fa-b5303af287a7"
      },
      "execution_count": 188,
      "outputs": [
        {
          "output_type": "display_data",
          "data": {
            "text/plain": [
              "<Figure size 1080x360 with 3 Axes>"
            ],
            "image/png": "[encoded data removed]"
          },
          "metadata": {
            "needs_background": "light"
          }
        }
      ]
    },
    {
      "cell_type": "markdown",
      "source": [
        "Except age, most of the numeric columns have outliers. These will be removed during the challenge the solution part."
      ],
      "metadata": {
        "id": "yq7pGi40DFcB"
      }
    },
    {
      "cell_type": "code",
      "metadata": {
        "id": "PWlukLKUvFQN"
      },
      "source": [
        "# Checking for Anomalies\n"
      ],
      "execution_count": null,
      "outputs": []
    },
    {
      "cell_type": "code",
      "metadata": {
        "id": "D-4I__6Os4C5"
      },
      "source": [
        "# More data cleaning procedures\n",
        "#"
      ],
      "execution_count": null,
      "outputs": []
    },
    {
      "cell_type": "markdown",
      "metadata": {
        "id": "rF2ABPsHUtbZ"
      },
      "source": [
        "## 6. Exploratory Analysis"
      ]
    },
    {
      "cell_type": "code",
      "metadata": {
        "id": "5nnRToniXGDK"
      },
      "source": [
        "# Ploting the univariate summaries and recording our observations\n",
        "#"
      ],
      "execution_count": null,
      "outputs": []
    },
    {
      "cell_type": "markdown",
      "metadata": {
        "id": "vTbdjSrhVIiT"
      },
      "source": [
        "## 7. Implementing the Solution"
      ]
    },
    {
      "cell_type": "code",
      "metadata": {
        "id": "PJLZaRzJXJ3w"
      },
      "source": [
        "# Implementing the Solution\n",
        "# "
      ],
      "execution_count": null,
      "outputs": []
    },
    {
      "cell_type": "markdown",
      "metadata": {
        "id": "lQ2G4ZPDVOXE"
      },
      "source": [
        "## 8. Challenging the solution"
      ]
    },
    {
      "cell_type": "markdown",
      "metadata": {
        "id": "jWVGKGuiYMWg"
      },
      "source": [
        "> The easy solution is nice because it is, well, easy, but you should never allow those results to hold the day. You should always be thinking of ways to challenge the results, especially if those results comport with your prior expectation.\n",
        "\n",
        "\n",
        "\n",
        "\n"
      ]
    },
    {
      "cell_type": "code",
      "metadata": {
        "id": "j3x3SXZ4XT_L"
      },
      "source": [
        "# Reviewing the Solution \n",
        "#"
      ],
      "execution_count": null,
      "outputs": []
    },
    {
      "cell_type": "markdown",
      "metadata": {
        "id": "xrmHVMVsVS--"
      },
      "source": [
        "## 9. Follow up questions"
      ]
    },
    {
      "cell_type": "markdown",
      "metadata": {
        "id": "pth2qSWhuBIy"
      },
      "source": [
        "> At this point, we can refine our question or collect new data, all in an iterative process to get at the truth.\n",
        "\n"
      ]
    },
    {
      "cell_type": "markdown",
      "metadata": {
        "id": "HPQviDmNtta8"
      },
      "source": [
        "### a). Did we have the right data?"
      ]
    },
    {
      "cell_type": "markdown",
      "metadata": {
        "id": "qjFHK1CKty7o"
      },
      "source": [
        "### b). Do we need other data to answer our question?"
      ]
    },
    {
      "cell_type": "markdown",
      "metadata": {
        "id": "HSsicSdvt4Zs"
      },
      "source": [
        "### c). Did we have the right question?"
      ]
    }
  ]
}